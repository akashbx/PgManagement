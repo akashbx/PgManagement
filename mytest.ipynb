{
 "cells": [
  {
   "cell_type": "code",
   "metadata": {
    "collapsed": true,
    "ExecuteTime": {
     "end_time": "2024-08-02T18:10:21.355332500Z",
     "start_time": "2024-08-02T18:09:22.363944900Z"
    }
   },
   "source": "%use ktor-client",
   "outputs": [],
   "execution_count": 1
  },
  {
   "metadata": {},
   "cell_type": "markdown",
   "source": ""
  },
  {
   "metadata": {
    "ExecuteTime": {
     "end_time": "2024-08-02T18:15:54.303404900Z",
     "start_time": "2024-08-02T18:15:51.497662Z"
    }
   },
   "cell_type": "code",
   "source": [
    "import io.ktor.client.*\n",
    "import io.ktor.client.request.*\n",
    "import io.ktor.client.statement.*\n",
    "import kotlinx.coroutines.runBlocking\n",
    "\n",
    "// Step 4: Create a Ktor client and make a request\n",
    "val client = HttpClient {\n",
    "   \n",
    "}\n",
    "\n",
    "val url = \"https://jsonplaceholder.typicode.com/todos/1\"\n",
    "\n",
    "runBlocking {\n",
    "    val response: HttpResponse = client.get(url)\n",
    "    val responseBody: String = response.bodyAsText()\n",
    "    println(\"Response: $responseBody\")\n",
    "}"
   ],
   "outputs": [
    {
     "name": "stdout",
     "output_type": "stream",
     "text": [
      "Response: {\n",
      "  \"userId\": 1,\n",
      "  \"id\": 1,\n",
      "  \"title\": \"delectus aut autem\",\n",
      "  \"completed\": false\n",
      "}\r\n"
     ]
    }
   ],
   "execution_count": 3
  }
 ],
 "metadata": {
  "kernelspec": {
   "display_name": "Kotlin",
   "language": "kotlin",
   "name": "kotlin"
  },
  "language_info": {
   "name": "kotlin",
   "version": "1.9.23",
   "mimetype": "text/x-kotlin",
   "file_extension": ".kt",
   "pygments_lexer": "kotlin",
   "codemirror_mode": "text/x-kotlin",
   "nbconvert_exporter": ""
  }
 },
 "nbformat": 4,
 "nbformat_minor": 0
}
